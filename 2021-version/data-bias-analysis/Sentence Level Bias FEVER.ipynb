{
 "cells": [
  {
   "cell_type": "code",
   "execution_count": 54,
   "id": "qualified-combination",
   "metadata": {},
   "outputs": [],
   "source": [
    "import json\n",
    "import math\n",
    "import sqlite3\n",
    "import unicodedata\n",
    "from matplotlib import pyplot as plt\n",
    "from collections import Counter, defaultdict\n",
    "from functools import lru_cache\n",
    "plt.style.use('ggplot')"
   ]
  },
  {
   "cell_type": "code",
   "execution_count": 55,
   "id": "confirmed-platform",
   "metadata": {},
   "outputs": [],
   "source": [
    "def unicode_normalize(text):\n",
    "    \"\"\"Resolve different type of unicode encodings.\"\"\"\n",
    "    return unicodedata.normalize('NFD', text)\n",
    "\n",
    "\n",
    "class FEVERDocumentDatabase():\n",
    "\n",
    "    def __init__(self,path=None):\n",
    "        self.path = path\n",
    "        self.connection = sqlite3.connect(self.path, check_same_thread=False)\n",
    "\n",
    "    def __enter__(self):\n",
    "        return self\n",
    "\n",
    "    def __exit__(self, *args):\n",
    "        self.close()\n",
    "\n",
    "    def path(self):\n",
    "        \"\"\"Return the path to the file that backs this database.\"\"\"\n",
    "        return self.path\n",
    "\n",
    "    def close(self):\n",
    "        \"\"\"Close the connection to the database.\"\"\"\n",
    "        self.connection.close()\n",
    "        \n",
    "    @lru_cache(maxsize=100000)\n",
    "    def get_doc_lines(self, doc_id):\n",
    "        \"\"\"Fetch the raw text of the doc for 'doc_id'.\"\"\"\n",
    "        cursor = self.connection.cursor()\n",
    "        cursor.execute(\n",
    "            \"SELECT lines FROM documents WHERE id = ?\",\n",
    "            (unicode_normalize(doc_id),)\n",
    "        )\n",
    "        result = cursor.fetchone()\n",
    "        cursor.close()\n",
    "        return result if result is None else result[0]\n",
    "\n",
    "    def get_doc_text(self, doc_id):\n",
    "        lines = self.get_doc_lines(doc_id)\n",
    "\n",
    "        if lines is None:\n",
    "            return None\n",
    "\n",
    "        lines = lines.split(\"\\n\")\n",
    "        return \"\\n\".join([line.split(\"\\t\")[1] for line in lines if len(line.split(\"\\t\")) > 1])\n",
    "\n",
    "    def get_non_empty_doc_ids(self):\n",
    "        \"\"\"Fetch all ids of docs stored in the db.\"\"\"\n",
    "        cursor = self.connection.cursor()\n",
    "        cursor.execute(\"SELECT id FROM documents WHERE length(trim(lines)) > 0\")\n",
    "        results = [r[0] for r in cursor.fetchall()]\n",
    "        cursor.close()\n",
    "        return results\n",
    "    \n",
    "db = FEVERDocumentDatabase(\"fever/fever.db\")"
   ]
  },
  {
   "cell_type": "code",
   "execution_count": 73,
   "id": "after-sacrifice",
   "metadata": {},
   "outputs": [],
   "source": [
    "def read_in(filename):\n",
    "    tmp = Counter()\n",
    "    with open(filename) as f:\n",
    "        for line in f:\n",
    "            pages = defaultdict(set)\n",
    "            instance = json.loads(line)\n",
    "            \n",
    "            for evidence_group in instance['evidence']:\n",
    "                for _, _, page, line in evidence_group:\n",
    "\n",
    "                    if page is not None:\n",
    "                        pages[page].add(int(line))\n",
    "\n",
    "                        \n",
    "            for page,count in pages.items():\n",
    "                for line_idx,line in enumerate(db.get_doc_lines(page).split(\"\\n\")):\n",
    "                    bits = line.split(\"\\t\")\n",
    "                    if len(bits) > 1 and len(bits[1]):\n",
    "                        if line_idx in pages[page]:\n",
    "                            tmp[(line_idx,instance[\"label\"])] += 1\n",
    "                        else:\n",
    "                            tmp[(line_idx,\"neutral\")] += 1\n",
    "        \n",
    "        return tmp\n",
    "\n",
    "def normalize(dist,smooth=1e-6):\n",
    "    return [(a+smooth)/(sum(dist)+smooth) for a in dist]\n",
    "\n",
    "def D_kl(p,q):\n",
    "    return sum(pi*math.log(pi/qi,2) for pi,qi in zip(p,q))\n",
    "    "
   ]
  },
  {
   "cell_type": "code",
   "execution_count": 108,
   "id": "national-extreme",
   "metadata": {},
   "outputs": [],
   "source": [
    "labels = Counter()\n",
    "\n",
    "# labels.update(read_in(\"fever/train.jsonl\"))\n",
    "labels.update(read_in(\"fever/shared_task_dev.jsonl\"))\n",
    "              \n",
    "\n",
    "\n",
    "    "
   ]
  },
  {
   "cell_type": "code",
   "execution_count": 121,
   "id": "qualified-reynolds",
   "metadata": {},
   "outputs": [
    {
     "name": "stdout",
     "output_type": "stream",
     "text": [
      "6936 4315 4765\n",
      "11721 1358 1456\n",
      "9743 766 731\n",
      "7118 459 454\n",
      "6632 412 451\n",
      "7461 379 428\n",
      "7551 414 423\n",
      "7155 315 262\n",
      "6535 246 253\n",
      "6101 248 265\n",
      "5728 256 231\n",
      "5239 197 177\n",
      "4838 189 201\n",
      "4522 206 211\n",
      "4457 160 143\n",
      "4027 158 139\n",
      "3758 156 129\n",
      "3195 106 90\n",
      "2765 66 62\n",
      "2420 64 56\n",
      "2255 78 78\n",
      "2098 51 62\n",
      "1755 23 38\n",
      "1490 56 44\n",
      "1274 51 24\n",
      "1092 22 13\n",
      "1099 26 22\n",
      "873 17 12\n",
      "692 15 11\n",
      "636 19 10\n",
      "553 5 4\n",
      "440 10 6\n",
      "357 6 2\n",
      "338 6 3\n",
      "346 14 7\n",
      "241 3 1\n",
      "222 4 5\n",
      "194 3 3\n",
      "241 3 2\n",
      "199 2 5\n",
      "176 11 9\n",
      "97 4 4\n",
      "93 3 8\n",
      "133 3 2\n",
      "104 4 3\n",
      "78 0 1\n",
      "63 1 0\n",
      "54 0 0\n",
      "72 1 1\n",
      "71 0 0\n"
     ]
    }
   ],
   "source": [
    "pos = []\n",
    "val = []\n",
    "cum_totals_true = [0]\n",
    "cum_totals_false = [0]\n",
    "\n",
    "    \n",
    "for idx in range(50):\n",
    "    print(labels[(idx,'neutral')],labels[(idx,'SUPPORTS')],labels[(idx,'REFUTES')])\n",
    "    pos.append(idx)\n",
    "    val.append([labels[(idx,'neutral')],labels[(idx,'SUPPORTS')],labels[(idx,'REFUTES')]])\n",
    "    \n",
    "    \n",
    "    cum_totals_true += [cum_totals_true[-1] + labels[(idx,'SUPPORTS')]]\n",
    "    cum_totals_false += [cum_totals_false[-1] + labels[(idx,'REFUTES')]]\n",
    "    \n"
   ]
  },
  {
   "cell_type": "code",
   "execution_count": 122,
   "id": "conscious-framework",
   "metadata": {},
   "outputs": [
    {
     "name": "stdout",
     "output_type": "stream",
     "text": [
      "[0, 4315, 5673, 6439, 6898, 7310, 7689, 8103, 8418, 8664, 8912, 9168, 9365, 9554, 9760, 9920, 10078, 10234, 10340, 10406, 10470, 10548, 10599, 10622, 10678, 10729, 10751, 10777, 10794, 10809, 10828, 10833, 10843, 10849, 10855, 10869, 10872, 10876, 10879, 10882, 10884, 10895, 10899, 10902, 10905, 10909, 10909, 10910, 10910, 10911, 10911]\n"
     ]
    }
   ],
   "source": []
  },
  {
   "cell_type": "code",
   "execution_count": 111,
   "id": "located-aside",
   "metadata": {},
   "outputs": [
    {
     "data": {
      "image/png": "[encoded data removed]",
      "text/plain": [
       "<Figure size 432x288 with 1 Axes>"
      ]
     },
     "metadata": {},
     "output_type": "display_data"
    }
   ],
   "source": [
    "for series in zip(*val):\n",
    "    plt.bar(pos,series)\n",
    "\n",
    "plt.xlabel('Sentence Index')\n",
    "plt.ylabel(\"Number of Instances\")\n",
    "plt.yscale('log')\n",
    "plt.xscale('log')\n",
    "plt.xlim((1,50))\n",
    "plt.legend([\"neutral\",\"true\",\"false\"])\n",
    "plt.savefig(\"bias_sentence_distribution.pdf\",bbox_inches='tight')"
   ]
  },
  {
   "cell_type": "code",
   "execution_count": 79,
   "id": "legitimate-request",
   "metadata": {},
   "outputs": [
    {
     "data": {
      "text/plain": [
       "[0.6054648450516494, 0.26891036321226264, 0.12562479173608798]"
      ]
     },
     "execution_count": 79,
     "metadata": {},
     "output_type": "execute_result"
    }
   ],
   "source": []
  },
  {
   "cell_type": "code",
   "execution_count": 166,
   "id": "automated-milwaukee",
   "metadata": {},
   "outputs": [
    {
     "name": "stdout",
     "output_type": "stream",
     "text": [
      "[135238, 10911, 11307]\n"
     ]
    },
    {
     "data": {
      "text/plain": [
       "[0.8588939132202011, 0.06929554923280154, 0.07181053754699726]"
      ]
     },
     "execution_count": 166,
     "metadata": {},
     "output_type": "execute_result"
    }
   ],
   "source": [
    "infos = []\n",
    "master_distribution = [0,0,0]\n",
    "\n",
    "for idx,dist in zip(pos,val):\n",
    "    master_distribution[0] += dist[0]\n",
    "    master_distribution[1] += dist[1]\n",
    "    master_distribution[2] += dist[2]\n",
    "    \n",
    "print(master_distribution)\n",
    "norm_ms = [a/sum(master_distribution) for a in master_distribution]\n",
    "norm_ms"
   ]
  },
  {
   "cell_type": "code",
   "execution_count": 167,
   "id": "surprising-northern",
   "metadata": {},
   "outputs": [],
   "source": [
    "for idx,dist in zip(pos,val):\n",
    "    infos.append(D_kl(norm_ms,normalize(dist)))"
   ]
  },
  {
   "cell_type": "code",
   "execution_count": 168,
   "id": "directed-motion",
   "metadata": {},
   "outputs": [
    {
     "data": {
      "image/png": "[encoded data removed]",
      "text/plain": [
       "<Figure size 360x216 with 1 Axes>"
      ]
     },
     "metadata": {},
     "output_type": "display_data"
    }
   ],
   "source": [
    "fig= plt.figure(figsize=(5,3))\n",
    "plt.bar(pos,infos)\n",
    "\n",
    "plt.autoscale(tight=True)\n",
    "plt.xscale('log')\n",
    "plt.ylim((0,0.1))\n",
    "plt.xlim((1,50))\n",
    "plt.xlabel(\"Sentence Index\")\n",
    "plt.ylabel(\"Relative Entropy (bits KL)\")\n",
    "plt.savefig(\"bias_sentence_relative_entropy.pdf\",bbox_inches='tight')\n"
   ]
  },
  {
   "cell_type": "code",
   "execution_count": 127,
   "id": "fifth-harvard",
   "metadata": {},
   "outputs": [],
   "source": [
    "cum_pos= []\n",
    "for a,b in zip(cum_totals_true,cum_totals_false):\n",
    "    cum_pos.append((a+b) / (master_distribution[1]+master_distribution[2]))"
   ]
  },
  {
   "cell_type": "code",
   "execution_count": 130,
   "id": "attached-execution",
   "metadata": {},
   "outputs": [
    {
     "data": {
      "text/plain": [
       "[<matplotlib.lines.Line2D at 0x7fc969e16b50>]"
      ]
     },
     "execution_count": 130,
     "metadata": {},
     "output_type": "execute_result"
    },
    {
     "data": {
      "image/png": "[encoded data removed]",
      "text/plain": [
       "<Figure size 432x288 with 1 Axes>"
      ]
     },
     "metadata": {},
     "output_type": "display_data"
    }
   ],
   "source": [
    "plt.plot(cum_pos)\n"
   ]
  },
  {
   "cell_type": "code",
   "execution_count": 138,
   "id": "bulgarian-interim",
   "metadata": {},
   "outputs": [
    {
     "name": "stdout",
     "output_type": "stream",
     "text": [
      "[0, 13959, 21635, 26762, 30584, 33534, 36044, 38192, 39972, 41508, 42792, 43886, 44926, 45978, 46849, 47585, 48243, 48814, 49333, 49773, 50156, 50498, 50807, 51088, 51352, 51597, 51822, 52028, 52186, 52335, 52454, 52563, 52659, 52743, 52830, 52908, 52979, 53038, 53086, 53133, 53179, 53224, 53277, 53309, 53345, 53374, 53408, 53441, 53479, 53503, 53522, 53539, 53563, 53584, 53602, 53626, 53641, 53656, 53675, 53692, 53713, 53731, 53740, 53754, 53764, 53777, 53789, 53797, 53802, 53805, 53809, 53812, 53815, 53821, 53826, 53831, 53836, 53840, 53843, 53845, 53846, 53848, 53852, 53852, 53853, 53856, 53859, 53860, 53862, 53864, 53867, 53872, 53874, 53876, 53878, 53880, 53884, 53887, 53888, 53889, 53890, 53890]\n"
     ]
    }
   ],
   "source": [
    "with open(\"nc_cumulative_totals.json\") as f:\n",
    "    cum_true_nc,cum_false_nc = json.load(f)\n",
    "print(cum_true_nc)"
   ]
  },
  {
   "cell_type": "code",
   "execution_count": 143,
   "id": "controlling-pressure",
   "metadata": {},
   "outputs": [],
   "source": [
    "cum_pos_nc= []\n",
    "for a,b in zip(cum_true_nc[:50],cum_false_nc[:50]):\n",
    "    cum_pos_nc.append((a+b) / (cum_true_nc[-1]+cum_false_nc[-1]))"
   ]
  },
  {
   "cell_type": "code",
   "execution_count": 163,
   "id": "consecutive-article",
   "metadata": {},
   "outputs": [
    {
     "data": {
      "image/png": "[encoded data removed]",
      "text/plain": [
       "<Figure size 432x288 with 1 Axes>"
      ]
     },
     "metadata": {},
     "output_type": "display_data"
    }
   ],
   "source": [
    "plt.plot(cum_pos[:])\n",
    "plt.plot(cum_pos_nc[:])\n",
    "plt.legend([\"FEVER\",\"Ours\"])\n",
    "\n",
    "plt.xscale(\"log\")\n",
    "plt.xlim((1,50))\n",
    "plt.ylim((0.25,1.0))\n",
    "plt.xlabel(\"Evidence Sentence Index (within section)\")\n",
    "plt.ylabel(\"Cumulative Proportion\")\n",
    "plt.savefig(\"bias_data_proportion.pdf\",bbox_inches='tight')"
   ]
  }
 ],
 "metadata": {
  "kernelspec": {
   "display_name": "Python 3",
   "language": "python",
   "name": "python3"
  },
  "language_info": {
   "codemirror_mode": {
    "name": "ipython",
    "version": 3
   },
   "file_extension": ".py",
   "mimetype": "text/x-python",
   "name": "python",
   "nbconvert_exporter": "python",
   "pygments_lexer": "ipython3",
   "version": "3.8.5"
  }
 },
 "nbformat": 4,
 "nbformat_minor": 5
}
