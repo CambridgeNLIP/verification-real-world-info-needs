{
 "cells": [
  {
   "cell_type": "code",
   "execution_count": 4,
   "id": "qualified-combination",
   "metadata": {},
   "outputs": [],
   "source": [
    "import json\n",
    "import math\n",
    "from matplotlib import pyplot as plt\n",
    "from collections import Counter\n",
    "plt.style.use('ggplot')"
   ]
  },
  {
   "cell_type": "code",
   "execution_count": 32,
   "id": "after-sacrifice",
   "metadata": {},
   "outputs": [],
   "source": [
    "def read_in(filename):\n",
    "    tmp = Counter()\n",
    "    with open(filename) as f:\n",
    "        for line in f:\n",
    "            instance = json.loads(line)\n",
    "\n",
    "            for k,v in instance['labels'].items():\n",
    "                for sent_idx,sent_label in enumerate(v['sentence_labels']):\n",
    "                    tmp[(int(sent_idx), sent_label)] += 1\n",
    "    return tmp\n",
    "\n",
    "def normalize(dist,smooth=1e-6):\n",
    "    return [(a+smooth)/(sum(dist)+smooth) for a in dist]\n",
    "\n",
    "def D_kl(p,q):\n",
    "    return sum(pi*math.log(pi/qi,2) for pi,qi in zip(p,q))\n",
    "    "
   ]
  },
  {
   "cell_type": "code",
   "execution_count": 83,
   "id": "national-extreme",
   "metadata": {},
   "outputs": [],
   "source": [
    "labels = Counter()\n",
    "\n",
    "labels.update(read_in(\"ncmace95/train.jsonl\"))\n",
    "labels.update(read_in(\"ncmace95/dev.jsonl\"))\n",
    "labels.update(read_in(\"ncmace95/test.jsonl\"))\n",
    "\n",
    "\n",
    "pos = []\n",
    "val = []\n",
    "\n",
    "cum_totals_true = [0]\n",
    "cum_totals_false = [0]\n",
    "\n",
    "for idx in range(101):\n",
    "    pos.append(idx)\n",
    "    val.append([labels[(idx,'neutral')],labels[(idx,'true')],labels[(idx,'false')]])\n",
    "   \n",
    "    cum_totals_true += [cum_totals_true[-1] + labels[(idx,'true')]]\n",
    "    cum_totals_false += [cum_totals_false[-1] + labels[(idx,'false')]]\n",
    "    \n"
   ]
  },
  {
   "cell_type": "code",
   "execution_count": null,
   "id": "advance-veteran",
   "metadata": {},
   "outputs": [],
   "source": []
  },
  {
   "cell_type": "code",
   "execution_count": null,
   "id": "conscious-framework",
   "metadata": {},
   "outputs": [],
   "source": []
  },
  {
   "cell_type": "code",
   "execution_count": 88,
   "id": "located-aside",
   "metadata": {},
   "outputs": [
    {
     "data": {
      "image/png": "[encoded data removed]",
      "text/plain": [
       "<Figure size 432x288 with 1 Axes>"
      ]
     },
     "metadata": {},
     "output_type": "display_data"
    }
   ],
   "source": [
    "for series in zip(*val):\n",
    "    plt.bar(pos,series)\n",
    "\n",
    "plt.xlabel('Sentence Index')\n",
    "plt.ylabel(\"Number of Instances\")\n",
    "plt.yscale('log')\n",
    "plt.xscale('log')\n",
    "plt.xlim((1,101))\n",
    "plt.legend([\"neutral\",\"supports\",\"refutes\"])\n",
    "plt.savefig(\"bias_sentence_distribution.pdf\",bbox_inches='tight')"
   ]
  },
  {
   "cell_type": "code",
   "execution_count": 72,
   "id": "legitimate-request",
   "metadata": {},
   "outputs": [
    {
     "data": {
      "text/plain": [
       "[0.8795707623272018, 0.08194565037232125, 0.03848358730047702]"
      ]
     },
     "execution_count": 72,
     "metadata": {},
     "output_type": "execute_result"
    }
   ],
   "source": [
    "master_distribution = [0,0,0]\n",
    "\n",
    "for idx,dist in zip(pos,val):\n",
    "    master_distribution[0] += dist[0]\n",
    "    master_distribution[1] += dist[1]\n",
    "    master_distribution[2] += dist[2]\n",
    "    \n",
    "norm_ms = [a/sum(master_distribution) for a in master_distribution]\n",
    "norm_ms"
   ]
  },
  {
   "cell_type": "code",
   "execution_count": 73,
   "id": "automated-milwaukee",
   "metadata": {},
   "outputs": [],
   "source": [
    "infos = []\n",
    "for idx,dist in zip(pos,val):\n",
    "    infos.append(D_kl(norm_ms,normalize(dist)))"
   ]
  },
  {
   "cell_type": "code",
   "execution_count": 89,
   "id": "directed-motion",
   "metadata": {},
   "outputs": [
    {
     "data": {
      "image/png": "[encoded data removed]",
      "text/plain": [
       "<Figure size 432x288 with 1 Axes>"
      ]
     },
     "metadata": {},
     "output_type": "display_data"
    }
   ],
   "source": [
    "\n",
    "plt.bar(pos,infos)\n",
    "\n",
    "plt.autoscale(tight=True)\n",
    "plt.xscale('log')\n",
    "plt.ylim((0,0.1))\n",
    "plt.xlim((1,101))\n",
    "plt.xlabel(\"Sentence Index\")\n",
    "plt.ylabel(\"Relative Entropy (bits KL)\")\n",
    "plt.savefig(\"bias_sentence_relative_entropy.pdf\",bbox_inches='tight')\n"
   ]
  },
  {
   "cell_type": "code",
   "execution_count": 84,
   "id": "fifth-harvard",
   "metadata": {},
   "outputs": [],
   "source": [
    "with open(\"nc_cumulative_totals.json\",\"w+\") as f:\n",
    "    json.dump([cum_totals_true,cum_totals_false],f)"
   ]
  }
 ],
 "metadata": {
  "kernelspec": {
   "display_name": "Python 3",
   "language": "python",
   "name": "python3"
  },
  "language_info": {
   "codemirror_mode": {
    "name": "ipython",
    "version": 3
   },
   "file_extension": ".py",
   "mimetype": "text/x-python",
   "name": "python",
   "nbconvert_exporter": "python",
   "pygments_lexer": "ipython3",
   "version": "3.8.5"
  }
 },
 "nbformat": 4,
 "nbformat_minor": 5
}
