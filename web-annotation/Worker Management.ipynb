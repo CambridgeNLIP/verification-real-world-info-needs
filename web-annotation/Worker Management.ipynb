{
 "cells": [
  {
   "cell_type": "code",
   "execution_count": null,
   "metadata": {},
   "outputs": [],
   "source": [
    "import pandas as pd\n",
    "import numpy as np\n",
    "import matplotlib.pyplot as plt\n",
    "import boto3\n",
    "import os\n",
    "\n",
    "from bson import ObjectId\n",
    "from datetime import datetime\n",
    "from pymongo import MongoClient, ASCENDING, DESCENDING"
   ]
  },
  {
   "cell_type": "code",
   "execution_count": null,
   "metadata": {},
   "outputs": [],
   "source": [
    "os.environ[\"AWS_DEFAULT_REGION\"] = \"us-east-1\"\n",
    "os.environ[\"AWS_ACCESS_KEY_ID\"] = \"\"\n",
    "os.environ[\"AWS_SECRET_ACCESS_KEY\"] = \"\"\n",
    "os.environ[\"MONGO_USER\"]= \"mongo_admin\"\n",
    "os.environ[\"MONGO_PASS\"]= \"\"\n",
    "os.environ[\"MONGO_HOST\"]= \"localhost:27018\"\n",
    "os.environ[\"MONGO_DATABASE\"]= \"simple_live\""
   ]
  },
  {
   "cell_type": "code",
   "execution_count": 32,
   "metadata": {},
   "outputs": [],
   "source": [
    "with open(\"records.csv\") as f:\n",
    "    records = pd.read_csv(f)\n",
    "    \n",
    "def create_qualification_type(mturk, name):\n",
    "    paginator = mturk.get_paginator('list_qualification_types')\n",
    "    found = False\n",
    "    found_id = None\n",
    "\n",
    "    for quals in paginator.paginate(MustBeRequestable=False, MustBeOwnedByCaller=True):\n",
    "        for obj in quals[\"QualificationTypes\"]:\n",
    "\n",
    "            if obj[\"Name\"] == name:\n",
    "                found = True\n",
    "                found_id = obj[\"QualificationTypeId\"]\n",
    "                break\n",
    "\n",
    "    if not found:\n",
    "        response = mturk.create_qualification_type(Name=name,\n",
    "                                    Keywords=\"claim,wikipedia,evidence,search,true,false,finding,natural,question,ai\",\n",
    "                                    Description=\"Pass a qualification test to show you can find information from a Wikipedia page that supports or refutes a claim.\",\n",
    "                                    QualificationTypeStatus=\"Active\",\n",
    "                                    RetryDelayInSeconds=60*60*24)\n",
    "        return response[\"QualificationType\"][\"QualificationTypeId\"]\n",
    "\n",
    "    return found_id\n",
    "\n",
    "\n",
    "def qualify_worker(client, worker_id, qual, notify=True):\n",
    "    client.associate_qualification_with_worker(QualificationTypeId=qual, WorkerId=worker_id, SendNotification=notify, IntegerValue=1)\n",
    "\n",
    "def disqualify_worker(client, worker_id, qual, reason):\n",
    "    client.disassociate_qualification_from_worker(QualificationTypeId=qual,\n",
    "                                                  WorkerId=worker_id,\n",
    "                                                  Reason=reason)\n",
    "def freeze_worker(worker_objid):\n",
    "    db.workers.update({\"_id\": ObjectId(worker_objid)},\n",
    "                            {\"$set\": {\"freeze_date\": datetime.now()}})\n",
    "\n",
    "def act_worker(worker_objid):\n",
    "    db.workers.update({\"_id\": ObjectId(worker_objid)},\n",
    "                            {\"$set\": {\"act_date\": datetime.now()}})\n",
    "\n",
    "def unfreeze_worker(worker_id):\n",
    "    db.workers.update({\"_id\": ObjectId(worker_id)},\n",
    "                            {\"$set\": {\"unfreeze_date\": datetime.now()}})\n",
    "        \n",
    "def create_or_get_worker(workerId):\n",
    "    worker = db.workers.find_one({\"worker_id\": workerId})\n",
    "    if worker is None:\n",
    "        worker_id = db.workers.insert({\n",
    "            \"created_date\": datetime.now(),\n",
    "            \"status\": \"active\",\n",
    "            \"worker_id\": workerId,\n",
    "        })\n",
    "        worker = db.workers.find_one({\"_id\": workerId})\n",
    "    return worker\n",
    "\n"
   ]
  },
  {
   "cell_type": "code",
   "execution_count": 4,
   "metadata": {},
   "outputs": [],
   "source": [
    "\n",
    "client = MongoClient('mongodb://%s:%s@%s' % (os.getenv(\"MONGO_USER\"), os.getenv(\"MONGO_PASS\"), os.getenv(\"MONGO_HOST\")))\n",
    "db=client[os.getenv(\"MONGO_DATABASE\")]"
   ]
  },
  {
   "cell_type": "code",
   "execution_count": 5,
   "metadata": {},
   "outputs": [],
   "source": [
    "\n",
    "\n",
    "\n",
    "endpoint_url = 'https://mturk-requester.us-east-1.amazonaws.com'\n",
    "mturk = boto3.client(\n",
    "        'mturk',\n",
    "        endpoint_url=endpoint_url, )\n"
   ]
  },
  {
   "cell_type": "code",
   "execution_count": 31,
   "metadata": {},
   "outputs": [
    {
     "data": {
      "text/plain": [
       "{'ResponseMetadata': {'RequestId': '1184c53f-4dec-408a-aeac-b02a2b938c72',\n",
       "  'HTTPStatusCode': 200,\n",
       "  'HTTPHeaders': {'x-amzn-requestid': '1184c53f-4dec-408a-aeac-b02a2b938c72',\n",
       "   'content-type': 'application/x-amz-json-1.1',\n",
       "   'content-length': '2',\n",
       "   'date': 'Tue, 25 Aug 2020 23:14:05 GMT'},\n",
       "  'RetryAttempts': 0}}"
      ]
     },
     "execution_count": 31,
     "metadata": {},
     "output_type": "execute_result"
    }
   ],
   "source": [
    "#mturk.create_worker_block(WorkerId=\"AAA\",Reason=\"spam worker\")\n",
    "#mturk.create_worker_block(WorkerId=\"AAA\",Reason=\"spam worker\")\n",
    "\n",
    "update = 0 \n",
    "claims = [anno[\"claim\"] for anno in tqdm(db.annotations.find({\"worker_id\":\"Blocked Worker ID\"}))]\n",
    "updates = db.tie_breaker_claims.find({\"claim\":{\"$in\":claims}})\n",
    "\n",
    "a = [update[\"claim\"] for update in updates]\n",
    "\n",
    "remaining = set(claims).difference(a)\n",
    "for claim in tqdm(remaining):\n",
    "    db.tie_breaker_claims.insert({\n",
    "        \"claim\": claim,\n",
    "        \"remaining\": 5,\n",
    "        \"workers\":[]\n",
    "    })\n",
    "#result = db.tie_breaker_claims.update_many({\"claim\":{\"$in\":claims}},{\"$inc\":{\"remaining\":1}})"
   ]
  },
  {
   "cell_type": "code",
   "execution_count": 10,
   "metadata": {},
   "outputs": [],
   "source": [
    "if False:\n",
    "    mturk.notify_workers(Subject=\"Wikipedia evidence finding task correction rate\",\n",
    "                         MessageText=\"Hi, I've been reviewing your HITs for the Wikipedia evidence finding task. I've noticed that there were quite a few instances where I had to make corrections. I think there seems to be a systematic issue where you label evidence sentences from the document as True, but then label the claim as False (you should be getting a pop-up message warning you about this too). Could you please review the guidelines and let me know if there's anything you find unclear as this is a new task and we want to help our turkers do their best on this task.\",\n",
    "                         WorkerIds=[\"BBBB\"]\n",
    "            )"
   ]
  },
  {
   "cell_type": "code",
   "execution_count": 55,
   "metadata": {},
   "outputs": [],
   "source": [
    "main_qualification = create_qualification_type(mturk, \"Wikipedia Evidence Finding: FULL ANNOTATION - Qualification Granted\")\n",
    "freeze_qualification = create_qualification_type(mturk, \"Wikipedia Evidence Finding: Soft Block [Awaiting Review]\")"
   ]
  },
  {
   "cell_type": "code",
   "execution_count": 36,
   "metadata": {},
   "outputs": [],
   "source": [
    "pt = pd.pivot_table(records, columns=\"keep\", index=\"worker\", aggfunc={\"keep\":len}).fillna(0)"
   ]
  },
  {
   "cell_type": "code",
   "execution_count": 49,
   "metadata": {},
   "outputs": [
    {
     "data": {
      "text/html": [
       "<div>\n",
       "<style scoped>\n",
       "    .dataframe tbody tr th:only-of-type {\n",
       "        vertical-align: middle;\n",
       "    }\n",
       "\n",
       "    .dataframe tbody tr th {\n",
       "        vertical-align: top;\n",
       "    }\n",
       "\n",
       "    .dataframe thead th {\n",
       "        text-align: right;\n",
       "    }\n",
       "</style>\n",
       "<table border=\"1\" class=\"dataframe\">\n",
       "  <thead>\n",
       "    <tr style=\"text-align: right;\">\n",
       "      <th>keep</th>\n",
       "      <th>ACCEPT</th>\n",
       "      <th>AUTO ACCEPT</th>\n",
       "      <th>CORRECTED</th>\n",
       "      <th>NOT REVIEWED</th>\n",
       "      <th>REJECT</th>\n",
       "    </tr>\n",
       "  </thead>\n",
       "  <tbody>\n",
       "    <tr>\n",
       "      <th>keep</th>\n",
       "      <td>12137</td>\n",
       "      <td>220227</td>\n",
       "      <td>400</td>\n",
       "      <td>9186</td>\n",
       "      <td>2291</td>\n",
       "    </tr>\n",
       "  </tbody>\n",
       "</table>\n",
       "</div>"
      ],
      "text/plain": [
       "keep  ACCEPT  AUTO ACCEPT  CORRECTED  NOT REVIEWED  REJECT\n",
       "keep   12137       220227        400          9186    2291"
      ]
     },
     "execution_count": 49,
     "metadata": {},
     "output_type": "execute_result"
    }
   ],
   "source": [
    "pd.pivot_table(records, columns=\"keep\",  aggfunc={\"keep\":len})"
   ]
  },
  {
   "cell_type": "code",
   "execution_count": null,
   "metadata": {},
   "outputs": [],
   "source": [
    "#super_qualification = create_qualification_type(mturk, \"Wikipedia Evidence Finding: Super Annotators\")\n",
    "#qualify_worker(mturk,\"AAAA\", super_qualification)\n"
   ]
  },
  {
   "cell_type": "code",
   "execution_count": 48,
   "metadata": {},
   "outputs": [
    {
     "name": "stdout",
     "output_type": "stream",
     "text": [
      "244241\n",
      "10785\n",
      "10499\n"
     ]
    },
    {
     "name": "stderr",
     "output_type": "stream",
     "text": [
      "<ipython-input-48-6650ccb70f68>:8: MatplotlibDeprecationWarning: Passing the sharex parameter of subplots() positionally is deprecated since Matplotlib 3.3; the parameter will become keyword-only two minor releases later.\n",
      "  fig, (ax1,ax2) = plt.subplots(2,1,False,False,figsize=(10,10))\n"
     ]
    },
    {
     "name": "stdout",
     "output_type": "stream",
     "text": [
      "[  7.  12.  24.  47.  92. 141.]\n",
      "[ 6. 11. 20. 34. 49. 60.]\n",
      "[ 13.  18.  26.  39.  69. 104.]\n"
     ]
    },
    {
     "data": {
      "image/png": "[encoded data removed]",
      "text/plain": [
       "<Figure size 720x720 with 2 Axes>"
      ]
     },
     "metadata": {
      "needs_background": "light"
     },
     "output_type": "display_data"
    }
   ],
   "source": [
    "old_times = records[records.variant==3][\"annotation_time\"]\n",
    "times = records[records.variant>=6][\"annotation_time\"]\n",
    "u_times = records[(records[\"worker\"] == \"AAAAA\")][\"annotation_time\"]\n",
    "s_times = records[(records[\"worker\"] == \"BBBBB\")][\"annotation_time\"]\n",
    "print(len(times))\n",
    "print(len(u_times))\n",
    "print(len(s_times))\n",
    "fig, (ax1,ax2) = plt.subplots(2,1,False,False,figsize=(10,10))\n",
    "ax1.hist(old_times, bins=[0,5,10,20,30,40,50,60,70,80,90,100], alpha=0.5)\n",
    "ax1.hist(times, bins=[0,5,10,20,30,40,50,60,70,80,90,100], alpha=0.5)\n",
    "ax1.hist(u_times, bins=[0,5,10,20,30,40,50,60,70,80,90,100], alpha=0.5)\n",
    "ax1.hist(s_times, bins=[0,5,10,20,30,40,50,60,70,80,90,100], alpha=0.5)\n",
    "ax1.legend([\"Pilot 7\",\"Pilot 8\"])\n",
    "ax2.axis(\"off\")\n",
    "\n",
    "ax2.boxplot(times[times<100], vert=False)\n",
    "print(np.quantile(times,[.10,.25,.50,.75,.90,.95]))\n",
    "print(np.quantile(u_times,[.10,.25,.50,.75,.90,.95]))\n",
    "print(np.quantile(s_times,[.10,.25,.50,.75,.90,.95]))\n",
    "\n"
   ]
  }
 ],
 "metadata": {
  "kernelspec": {
   "display_name": "Python 3",
   "language": "python",
   "name": "python3"
  },
  "language_info": {
   "codemirror_mode": {
    "name": "ipython",
    "version": 3
   },
   "file_extension": ".py",
   "mimetype": "text/x-python",
   "name": "python",
   "nbconvert_exporter": "python",
   "pygments_lexer": "ipython3",
   "version": "3.8.5"
  }
 },
 "nbformat": 4,
 "nbformat_minor": 2
}
