{
 "cells": [
  {
   "cell_type": "code",
   "execution_count": 2,
   "id": "liberal-spirit",
   "metadata": {},
   "outputs": [
    {
     "name": "stderr",
     "output_type": "stream",
     "text": [
      "[nltk_data] Downloading package punkt to /Users/james/nltk_data...\n",
      "[nltk_data]   Package punkt is already up-to-date!\n"
     ]
    },
    {
     "data": {
      "text/plain": [
       "True"
      ]
     },
     "execution_count": 2,
     "metadata": {},
     "output_type": "execute_result"
    }
   ],
   "source": [
    "import json\n",
    "import nltk\n",
    "from scipy import stats\n",
    "from math import log\n",
    "from tqdm import tqdm\n",
    "from itertools import chain\n",
    "from collections import Counter, defaultdict\n",
    "nltk.download('punkt')\n",
    "\n"
   ]
  },
  {
   "cell_type": "code",
   "execution_count": 7,
   "id": "nearby-receptor",
   "metadata": {},
   "outputs": [
    {
     "name": "stderr",
     "output_type": "stream",
     "text": [
      "8723it [00:00, 23118.57it/s]\n",
      "1088it [00:00, 25789.95it/s]\n",
      "1086it [00:00, 30633.68it/s]\n"
     ]
    }
   ],
   "source": [
    "def load_texts(file):\n",
    "    with open(file) as f:\n",
    "        for idx, line in enumerate(tqdm(f)):\n",
    "            instance = json.loads(line)\n",
    "\n",
    "            texts = instance['source']['source_question']\n",
    "            if isinstance(texts,str):\n",
    "                texts = [texts]\n",
    "   \n",
    "            \n",
    "            yield len(texts)\n",
    "                \n",
    "                \n",
    "cnt = Counter()\n",
    "for label in chain(\n",
    "    load_texts(\"ncmace95/train.jsonl\"),\n",
    "    load_texts(\"ncmace95/dev.jsonl\"),\n",
    "    load_texts(\"ncmace95/test.jsonl\")\n",
    "        ):\n",
    "    \n",
    "    cnt[label] += 1"
   ]
  },
  {
   "cell_type": "code",
   "execution_count": null,
   "id": "toxic-republican",
   "metadata": {},
   "outputs": [],
   "source": []
  },
  {
   "cell_type": "code",
   "execution_count": 9,
   "id": "wrapped-memory",
   "metadata": {},
   "outputs": [
    {
     "name": "stdout",
     "output_type": "stream",
     "text": [
      "Counter({1: 10869, 2: 28})\n"
     ]
    }
   ],
   "source": [
    "print(cnt)"
   ]
  }
 ],
 "metadata": {
  "kernelspec": {
   "display_name": "Python 3",
   "language": "python",
   "name": "python3"
  },
  "language_info": {
   "codemirror_mode": {
    "name": "ipython",
    "version": 3
   },
   "file_extension": ".py",
   "mimetype": "text/x-python",
   "name": "python",
   "nbconvert_exporter": "python",
   "pygments_lexer": "ipython3",
   "version": "3.8.5"
  }
 },
 "nbformat": 4,
 "nbformat_minor": 5
}
