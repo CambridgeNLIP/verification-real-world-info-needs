{
 "cells": [
  {
   "cell_type": "code",
   "execution_count": 86,
   "id": "naughty-humanitarian",
   "metadata": {},
   "outputs": [],
   "source": [
    "import json\n",
    "from collections import defaultdict, Counter"
   ]
  },
  {
   "cell_type": "code",
   "execution_count": 53,
   "id": "essential-recycling",
   "metadata": {},
   "outputs": [],
   "source": [
    "#!/usr/bin/env python\n",
    "\n",
    "'''\n",
    "Created on Aug 1, 2016\n",
    "@author: skarumbaiah\n",
    "\n",
    "Computes Fleiss' Kappa \n",
    "Joseph L. Fleiss, Measuring Nominal Scale Agreement Among Many Raters, 1971.\n",
    "'''\n",
    "\n",
    "def checkInput(rate, n):\n",
    "    \"\"\" \n",
    "    Check correctness of the input matrix\n",
    "    @param rate - ratings matrix\n",
    "    @return n - number of raters\n",
    "    @throws AssertionError \n",
    "    \"\"\"\n",
    "    N = len(rate)\n",
    "    k = len(rate[0])\n",
    "    assert all(len(rate[i]) == k for i in range(k)), \"Row length != #categories)\"\n",
    "    assert all(isinstance(rate[i][j], int) for i in range(N) for j in range(k)), \"Element not integer\" \n",
    "    assert all(sum(row) == n for row in rate), \"Sum of ratings != #raters)\"\n",
    "\n",
    "def fleissKappa(rate,n):\n",
    "    \"\"\" \n",
    "    Computes the Kappa value\n",
    "    @param rate - ratings matrix containing number of ratings for each subject per category \n",
    "    [size - N X k where N = #subjects and k = #categories]\n",
    "    @param n - number of raters   \n",
    "    @return fleiss' kappa\n",
    "    \"\"\"\n",
    "\n",
    "    N = len(rate)\n",
    "    k = len(rate[0])\n",
    "    print(\"#raters = \", n, \", #subjects = \", N, \", #categories = \", k)\n",
    "    checkInput(rate, n)\n",
    "\n",
    "    #mean of the extent to which raters agree for the ith subject \n",
    "    PA = sum([(sum([i**2 for i in row])- n) / (n * (n - 1)) for row in rate])/N\n",
    "    print(\"PA = \", PA)\n",
    "    \n",
    "    # mean of squares of proportion of all assignments which were to jth category\n",
    "    PE = sum([j**2 for j in [sum([rows[i] for rows in rate])/(N*n) for i in range(k)]])\n",
    "    print(\"PE =\", PE)\n",
    "    \n",
    "    kappa = -float(\"inf\")\n",
    "    try:\n",
    "        kappa = (PA - PE) / (1 - PE)\n",
    "        kappa = float(\"{:.3f}\".format(kappa))\n",
    "    except ZeroDivisionError:\n",
    "        print(\"Expected agreement = 1\")\n",
    "\n",
    "    print(\"Fleiss' Kappa =\", kappa)\n",
    "    \n",
    "    return kappa\n"
   ]
  },
  {
   "cell_type": "code",
   "execution_count": null,
   "id": "portable-duration",
   "metadata": {},
   "outputs": [],
   "source": [
    "c"
   ]
  },
  {
   "cell_type": "code",
   "execution_count": 144,
   "id": "binding-mobility",
   "metadata": {},
   "outputs": [
    {
     "name": "stdout",
     "output_type": "stream",
     "text": [
      "63201 6248 20366 10778\n",
      "Counter({2: 55456, 5: 23025, 7: 6272, 6: 3322, 3: 2518, 4: 17, 8: 8})\n"
     ]
    }
   ],
   "source": [
    "# compiled = []\n",
    "# labels = ['true','false','neutral']\n",
    "# with open(\"../data-label-ground-truth/ncid_unique_generated_dataset_v0.4_2021_02_08.jsonl\") as f:\n",
    "#     for instance in map(json.loads, f):\n",
    "#         anno_lines = {}\n",
    "#         for evidence in instance['evidence']:\n",
    "#             for page, annotations in evidence['annotations'].items():\n",
    "#                 for line, scores in annotations.items():\n",
    "# #                     if sum(len(v) for k,v in scores.items()) == 5:\n",
    "#                         compiling = []\n",
    "#                         compiling.append(len(scores['true']) if 'true' in scores else 0)\n",
    "#                         compiling.append(len(scores['false']) if 'false' in scores else 0)\n",
    "#                         sofar = sum(compiling)\n",
    "#                         compiling.append(sum(len(v) for k,v in scores.items())-sofar)\n",
    "#                         compiled.append(compiling)\n",
    "#                         print(compiling)\n",
    "#                         break\n",
    "compiled =[]\n",
    "clens = []\n",
    "perf=0\n",
    "tf = 0\n",
    "tn = 0\n",
    "fn = 0\n",
    "with open(\"generated_dataset_v0.6_2021_03_31.jsonl\") as f:\n",
    "    for instance in map(json.loads, f):\n",
    "        cnt = defaultdict(list)\n",
    "        for evidence in instance['evidence']:\n",
    "            for page, annotations in evidence['annotations'].items(): \n",
    "                for hit in evidence['metadata'][page]:\n",
    "                    if True or page.endswith(\":0\"):\n",
    "                        cnt[f\"{page}_{hit['start_line']}_{hit['end_line']}\"].append(hit['top_level_prediction']) \n",
    "\n",
    "        for k, v in cnt.items():\n",
    "            ctr = Counter(v)\n",
    "            compiling = []\n",
    "            \n",
    "            if len(ctr.keys()) == 1:\n",
    "                perf +=1\n",
    "            if ctr['true'] and ctr['false']:\n",
    "                tf +=1\n",
    "            if ctr['true'] and ctr['']:\n",
    "                tn +=1\n",
    "            if ctr[''] and ctr['false']:\n",
    "                fn +=1\n",
    "                \n",
    "            compiling.append(ctr['true'] if 'true' in ctr else 0)\n",
    "            compiling.append(ctr['false'] if 'false' in ctr else 0)\n",
    "            sofar = sum(compiling)\n",
    "            compiling.append(len(v)-sofar) \n",
    "            \n",
    "            clens.append(sum(compiling))\n",
    "            if sum(compiling) == 5:                        \n",
    "                compiled.append(compiling)\n",
    "print(perf,tf,tn,fn)  \n",
    "dsit = Counter(clens)\n",
    "print(dsit)"
   ]
  },
  {
   "cell_type": "code",
   "execution_count": 143,
   "id": "identified-mirror",
   "metadata": {},
   "outputs": [
    {
     "name": "stdout",
     "output_type": "stream",
     "text": [
      "#raters =  5 , #subjects =  5370 , #categories =  3\n",
      "PA =  0.7297579143389145\n",
      "PE = 0.43510911089610876\n",
      "Fleiss' Kappa = 0.522\n"
     ]
    },
    {
     "data": {
      "text/plain": [
       "0.522"
      ]
     },
     "execution_count": 143,
     "metadata": {},
     "output_type": "execute_result"
    }
   ],
   "source": [
    "fleissKappa(compiled,5)"
   ]
  }
 ],
 "metadata": {
  "kernelspec": {
   "display_name": "Python 3",
   "language": "python",
   "name": "python3"
  },
  "language_info": {
   "codemirror_mode": {
    "name": "ipython",
    "version": 3
   },
   "file_extension": ".py",
   "mimetype": "text/x-python",
   "name": "python",
   "nbconvert_exporter": "python",
   "pygments_lexer": "ipython3",
   "version": "3.8.5"
  }
 },
 "nbformat": 4,
 "nbformat_minor": 5
}
