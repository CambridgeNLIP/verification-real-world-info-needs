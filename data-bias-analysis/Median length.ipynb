{
 "cells": [
  {
   "cell_type": "code",
   "execution_count": 14,
   "id": "executive-filename",
   "metadata": {},
   "outputs": [],
   "source": [
    "import json\n",
    "import math\n",
    "import numpy as np\n",
    "from matplotlib import pyplot as plt\n",
    "from collections import Counter"
   ]
  },
  {
   "cell_type": "code",
   "execution_count": 17,
   "id": "biological-teach",
   "metadata": {},
   "outputs": [],
   "source": [
    "\n",
    "def read_in(filename):\n",
    "    lens = []\n",
    "    with open(filename) as f:\n",
    "        for line in f:\n",
    "            instance = json.loads(line)\n",
    "            this_len = 0\n",
    "            for k,v in instance['labels'].items():\n",
    "                section_idx = k.rsplit(\":\",maxsplit=1)[1]\n",
    "                this_len += len(v['sentence_labels'])\n",
    "            \n",
    "            lens.append(this_len)\n",
    "    return lens\n"
   ]
  },
  {
   "cell_type": "code",
   "execution_count": 18,
   "id": "laden-breathing",
   "metadata": {},
   "outputs": [],
   "source": [
    "all_lens = []\n",
    "\n",
    "all_lens.extend(read_in(\"ncmace95/train.jsonl\"))\n",
    "all_lens.extend(read_in(\"ncmace95/dev.jsonl\"))\n",
    "all_lens.extend(read_in(\"ncmace95/test.jsonl\"))\n",
    "\n"
   ]
  },
  {
   "cell_type": "code",
   "execution_count": 19,
   "id": "english-blank",
   "metadata": {},
   "outputs": [
    {
     "data": {
      "text/plain": [
       "[41, 67, 11, 4, 59, 34, 26, 51, 82, 37]"
      ]
     },
     "execution_count": 19,
     "metadata": {},
     "output_type": "execute_result"
    }
   ],
   "source": [
    "all_lens[:10]"
   ]
  },
  {
   "cell_type": "code",
   "execution_count": 21,
   "id": "incoming-viking",
   "metadata": {},
   "outputs": [
    {
     "data": {
      "text/plain": [
       "48.0"
      ]
     },
     "execution_count": 21,
     "metadata": {},
     "output_type": "execute_result"
    }
   ],
   "source": [
    "np.median(all_lens)"
   ]
  },
  {
   "cell_type": "code",
   "execution_count": 28,
   "id": "continent-campus",
   "metadata": {},
   "outputs": [
    {
     "data": {
      "text/plain": [
       "124.0"
      ]
     },
     "execution_count": 28,
     "metadata": {},
     "output_type": "execute_result"
    }
   ],
   "source": [
    "np.percentile(all_lens,90)"
   ]
  }
 ],
 "metadata": {
  "kernelspec": {
   "display_name": "Python 3",
   "language": "python",
   "name": "python3"
  },
  "language_info": {
   "codemirror_mode": {
    "name": "ipython",
    "version": 3
   },
   "file_extension": ".py",
   "mimetype": "text/x-python",
   "name": "python",
   "nbconvert_exporter": "python",
   "pygments_lexer": "ipython3",
   "version": "3.8.5"
  }
 },
 "nbformat": 4,
 "nbformat_minor": 5
}
